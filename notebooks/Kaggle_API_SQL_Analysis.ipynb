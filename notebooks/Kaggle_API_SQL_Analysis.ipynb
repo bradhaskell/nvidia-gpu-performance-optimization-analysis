{
 "cells": [
  {
   "cell_type": "code",
   "execution_count": 5,
   "id": "27829dc4",
   "metadata": {},
   "outputs": [],
   "source": [
    "import os\n",
    "from sqlalchemy import create_engine\n",
    "from dotenv import load_dotenv\n",
    "import pandas as pd"
   ]
  },
  {
   "cell_type": "code",
   "execution_count": 4,
   "id": "57a0d124",
   "metadata": {},
   "outputs": [],
   "source": [
    "load_dotenv()\n",
    "\n",
    "pg_user = os.getenv('PG_USER')\n",
    "pg_password = os.getenv('PG_PASSWORD')\n",
    "pg_host = os.getenv('PG_HOST')\n",
    "pg_port = os.getenv('PG_PORT')\n",
    "pg_db = os.getenv('PG_GPU_DB')\n",
    "\n",
    "pg_conn_str = f\"postgresql+psycopg2://{pg_user}:{pg_password}@{pg_host}:{pg_port}/{pg_db}\"\n",
    "pg_engine = create_engine(pg_conn_str)"
   ]
  },
  {
   "cell_type": "markdown",
   "id": "a93d887a",
   "metadata": {},
   "source": [
    "Descriptive Analytics\n",
    "\n",
    "Business Question: What is the average GPU price for different levels of memory size and clock speed?"
   ]
  },
  {
   "cell_type": "code",
   "execution_count": 21,
   "id": "3b33c657",
   "metadata": {},
   "outputs": [
    {
     "name": "stdout",
     "output_type": "stream",
     "text": [
      "    mem_size_gb  gpu_clock_mhz  avg_price_usd\n",
      "0          28.0            900         2000.0\n",
      "1          24.0            975         1600.0\n",
      "2          24.0            810         1000.0\n",
      "3          12.0           1312          800.0\n",
      "4          20.0           1065          750.0\n",
      "5          16.0            900          750.0\n",
      "6          12.0           1245          550.0\n",
      "7          12.0           1825          550.0\n",
      "8          12.0           1290          400.0\n",
      "9           8.0            650          330.0\n",
      "10         16.0           1825          330.0\n",
      "11          8.0           1200          300.0\n",
      "12          8.0           1140          270.0\n"
     ]
    }
   ],
   "source": [
    "sql_query = '''\n",
    "WITH joined_specs AS (\n",
    "    SELECT\n",
    "        api.\"productName\",\n",
    "        api.\"memSize\",\n",
    "        api.\"gpuClock\",\n",
    "        web.\"MSRP\"\n",
    "    FROM sql_project.gpu_specs_raw api\n",
    "    JOIN sql_project.gpu_hierarchy_web_raw web\n",
    "        ON api.\"productName\" = web.\"Graphics Card\"\n",
    "    WHERE web.\"MSRP\" IS NOT NULL\n",
    ")\n",
    "SELECT\n",
    "    CAST(js.\"memSize\" AS NUMERIC) AS mem_size_gb,\n",
    "    js.\"gpuClock\" AS gpu_clock_mhz,\n",
    "    AVG(CAST(REGEXP_REPLACE(js.\"MSRP\", '[$,]', '', 'g') AS NUMERIC)) AS avg_price_usd\n",
    "FROM joined_specs js\n",
    "GROUP BY mem_size_gb, gpu_clock_mhz\n",
    "ORDER BY avg_price_usd DESC;\n",
    "'''\n",
    "df = pd.read_sql_query(sql_query, con=pg_engine)\n",
    "print(df)"
   ]
  },
  {
   "cell_type": "markdown",
   "id": "e78c7c6c",
   "metadata": {},
   "source": []
  },
  {
   "cell_type": "code",
   "execution_count": null,
   "id": "6f6ce1a6",
   "metadata": {},
   "outputs": [],
   "source": [
    "pd.set_option('display.max_rows', None)\n",
    "display(df)"
   ]
  },
  {
   "cell_type": "markdown",
   "id": "8254e63b",
   "metadata": {},
   "source": [
    "Diagnostic Analytics\n",
    "\n",
    "Business Question: Which specs included in our GPUs can generate higher sale prices?"
   ]
  },
  {
   "cell_type": "code",
   "execution_count": null,
   "id": "f9ba850f",
   "metadata": {},
   "outputs": [],
   "source": [
    "sql_query = '''\n",
    "WITH joined_specs AS (\n",
    "    SELECT\n",
    "        api.\"productName\",\n",
    "        api.\"memSize\",\n",
    "        api.\"gpuClock\",\n",
    "        web.\"MSRP\",\n",
    "        api.\"unifiedShader\"\n",
    "    FROM sql_project.gpu_specs_raw api\n",
    "    JOIN sql_project.gpu_hierarchy_web_raw web\n",
    "        ON api.\"productName\" = web.\"Graphics Card\"\n",
    "    WHERE web.\"MSRP\" IS NOT NULL\n",
    "),\n",
    "ranked_specs AS (\n",
    "    SELECT *,\n",
    "           AVG(CAST(REGEXP_REPLACE(js.\"MSRP\", '[$,]', '', 'g') AS NUMERIC)) OVER() AS overall_avg_price,\n",
    "           RANK() OVER (ORDER BY js.\"MSRP\" DESC) AS price_rank\n",
    "    FROM joined_specs js\n",
    ")\n",
    "SELECT\n",
    "    rs.\"productName\",\n",
    "    rs.\"memSize\",\n",
    "    rs.\"gpuClock\",\n",
    "    rs.\"unifiedShader\",\n",
    "    rs.\"MSRP\",\n",
    "    rs.overall_avg_price,\n",
    "    CAST(REGEXP_REPLACE(rs.\"MSRP\", '[$,]', '', 'g') AS NUMERIC) - rs.overall_avg_price AS price_above_avg\n",
    "FROM ranked_specs rs\n",
    "WHERE CAST(REGEXP_REPLACE(rs.\"MSRP\", '[$,]', '', 'g') AS NUMERIC) > rs.overall_avg_price\n",
    "ORDER BY price_above_avg DESC\n",
    "LIMIT 15;\n",
    "'''\n",
    "df = pd.read_sql_query(sql_query, con=pg_engine)\n",
    "print(df)"
   ]
  }
 ],
 "metadata": {
  "kernelspec": {
   "display_name": "Python 3",
   "language": "python",
   "name": "python3"
  },
  "language_info": {
   "codemirror_mode": {
    "name": "ipython",
    "version": 3
   },
   "file_extension": ".py",
   "mimetype": "text/x-python",
   "name": "python",
   "nbconvert_exporter": "python",
   "pygments_lexer": "ipython3",
   "version": "3.12.1"
  }
 },
 "nbformat": 4,
 "nbformat_minor": 5
}
