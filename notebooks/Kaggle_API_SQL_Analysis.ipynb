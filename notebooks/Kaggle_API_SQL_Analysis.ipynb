{
 "cells": [
  {
   "cell_type": "code",
   "execution_count": 2,
   "id": "27829dc4",
   "metadata": {},
   "outputs": [],
   "source": [
    "import os\n",
    "from sqlalchemy import create_engine\n",
    "from dotenv import load_dotenv\n",
    "import pandas as pd"
   ]
  },
  {
   "cell_type": "code",
   "execution_count": 3,
   "id": "57a0d124",
   "metadata": {},
   "outputs": [],
   "source": [
    "load_dotenv()\n",
    "\n",
    "pg_user = os.getenv('PG_USER')\n",
    "pg_password = os.getenv('PG_PASSWORD')\n",
    "pg_host = os.getenv('PG_HOST')\n",
    "pg_port = os.getenv('PG_PORT')\n",
    "pg_db = os.getenv('PG_GPU_DB')\n",
    "\n",
    "pg_conn_str = f\"postgresql+psycopg2://{pg_user}:{pg_password}@{pg_host}:{pg_port}/{pg_db}\"\n",
    "pg_engine = create_engine(pg_conn_str)"
   ]
  },
  {
   "cell_type": "markdown",
   "id": "a93d887a",
   "metadata": {},
   "source": [
    "Descriptive Analytics\n",
    "\n",
    "Business Question: What is the average GPU price for different levels of memory size and clock speed?"
   ]
  },
  {
   "cell_type": "code",
   "execution_count": 5,
   "id": "3b33c657",
   "metadata": {},
   "outputs": [
    {
     "name": "stdout",
     "output_type": "stream",
     "text": [
      "    mem_size_gb  gpu_clock_mhz  avg_price_usd\n",
      "0          28.0            900         2000.0\n",
      "1          24.0            975         1600.0\n",
      "2          24.0            810         1000.0\n",
      "3          12.0           1312          800.0\n",
      "4          20.0           1065          750.0\n",
      "5          16.0            900          750.0\n",
      "6          12.0           1245          550.0\n",
      "7          12.0           1825          550.0\n",
      "8          12.0           1290          400.0\n",
      "9           8.0            650          330.0\n",
      "10         16.0           1825          330.0\n",
      "11          8.0           1200          300.0\n",
      "12          8.0           1140          270.0\n"
     ]
    }
   ],
   "source": [
    "sql_query = '''\n",
    "WITH joined_specs AS (\n",
    "    SELECT\n",
    "        api.\"productName\",\n",
    "        api.\"memSize\",\n",
    "        api.\"gpuClock\",\n",
    "        web.\"MSRP\"\n",
    "    FROM sql_project.gpu_specs_raw api\n",
    "    JOIN sql_project.gpu_hierarchy_web_raw web\n",
    "        ON api.\"productName\" = web.\"Graphics Card\"\n",
    "    WHERE web.\"MSRP\" IS NOT NULL\n",
    ")\n",
    "SELECT\n",
    "    CAST(js.\"memSize\" AS NUMERIC) AS mem_size_gb,\n",
    "    js.\"gpuClock\" AS gpu_clock_mhz,\n",
    "    AVG(CAST(REGEXP_REPLACE(js.\"MSRP\", '[$,]', '', 'g') AS NUMERIC)) AS avg_price_usd\n",
    "FROM joined_specs js\n",
    "GROUP BY mem_size_gb, gpu_clock_mhz\n",
    "ORDER BY avg_price_usd DESC;\n",
    "'''\n",
    "df = pd.read_sql_query(sql_query, con=pg_engine)\n",
    "print(df)"
   ]
  },
  {
   "cell_type": "markdown",
   "id": "e78c7c6c",
   "metadata": {},
   "source": [
    "Insights:\n",
    "-highest avg price is $2000 for GPU with 28GB of memory\n",
    "-higher memory tends to call for higher pricing, not so much with clock speed\n",
    "-price drops for all GPUs with 8GB of memory\n",
    "\n",
    "Recommendations:\n",
    "-Look into other specs to crack down which are best predictors for pricing\n",
    "-find a good balance of specs; i.e. higher memory and prices for premium users and lower memory and prices for budget users\n",
    "-possibly drop the 8GB product line if prices continue to fall\n",
    "\n",
    "Predictions:\n",
    "-increase prices as GPU memory gets up to and surpasses 16GB, increasing overall profitability\n",
    "-increasing the minimum to 12GB means dropping 8GB and avoiding potential losses in profit"
   ]
  },
  {
   "cell_type": "code",
   "execution_count": null,
   "id": "6f6ce1a6",
   "metadata": {},
   "outputs": [],
   "source": [
    "pd.set_option('display.max_rows', None)\n",
    "display(df)"
   ]
  },
  {
   "cell_type": "markdown",
   "id": "8254e63b",
   "metadata": {},
   "source": [
    "Diagnostic Analytics\n",
    "\n",
    "Business Question: Which specs included in our GPUs can generate higher sale prices?"
   ]
  },
  {
   "cell_type": "code",
   "execution_count": null,
   "id": "f9ba850f",
   "metadata": {},
   "outputs": [
    {
     "name": "stdout",
     "output_type": "stream",
     "text": [
      "           productName  releaseYear  price_rank  memSize  gpuClock  \\\n",
      "0     GeForce RTX 5090       2025.0           1     28.0       900   \n",
      "1     GeForce RTX 4090       2022.0           2     24.0       975   \n",
      "2     GeForce RTX 5080       2025.0           3     16.0       900   \n",
      "3   Radeon RX 7900 XTX       2022.0           3     24.0       810   \n",
      "4  GeForce RTX 4070 Ti       2023.0           5     12.0      1312   \n",
      "5    Radeon RX 7900 XT       2022.0           6     20.0      1065   \n",
      "\n",
      "   unifiedShader  rop  tmu    MSRP  overall_avg_price  price_above_avg  \n",
      "0         8192.0  128  256  $2,000         741.428571      1258.571429  \n",
      "1         7168.0   80  224  $1,600         741.428571       858.571429  \n",
      "2         6912.0  192  432  $1,000         741.428571       258.571429  \n",
      "3         7424.0   96  232  $1,000         741.428571       258.571429  \n",
      "4         5120.0  128  320    $800         741.428571        58.571429  \n",
      "5         6912.0  160  432    $750         741.428571         8.571429  \n"
     ]
    }
   ],
   "source": [
    "sql_query = '''\n",
    "WITH joined_specs AS (\n",
    "    SELECT\n",
    "        api.\"productName\",\n",
    "        api.\"releaseYear\",\n",
    "        api.\"memSize\",\n",
    "        api.\"gpuClock\",\n",
    "        web.\"MSRP\",\n",
    "        api.\"unifiedShader\",\n",
    "        api.\"rop\",\n",
    "        api.\"tmu\"\n",
    "    FROM sql_project.gpu_specs_raw api\n",
    "    JOIN sql_project.gpu_hierarchy_web_raw web\n",
    "        ON api.\"productName\" = web.\"Graphics Card\"\n",
    "    WHERE web.\"MSRP\" IS NOT NULL\n",
    "),\n",
    "ranked_specs AS (\n",
    "    SELECT *,\n",
    "           AVG(CAST(REGEXP_REPLACE(js.\"MSRP\", '[$,]', '', 'g') AS NUMERIC)) OVER() AS overall_avg_price,\n",
    "           RANK() OVER (\n",
    "                ORDER BY CAST(REGEXP_REPLACE(js.\"MSRP\", '[$,]', '', 'g') AS NUMERIC) DESC\n",
    "           ) AS price_rank\n",
    "    FROM joined_specs js\n",
    ")\n",
    "SELECT\n",
    "    rs.\"productName\",\n",
    "    rs.\"releaseYear\",\n",
    "    rs.price_rank,\n",
    "    rs.\"memSize\",\n",
    "    rs.\"gpuClock\",\n",
    "    rs.\"unifiedShader\",\n",
    "    rs.\"rop\",\n",
    "    rs.\"tmu\",\n",
    "    rs.\"MSRP\",\n",
    "    rs.overall_avg_price,\n",
    "    CAST(REGEXP_REPLACE(rs.\"MSRP\", '[$,]', '', 'g') AS NUMERIC) - rs.overall_avg_price AS price_above_avg\n",
    "FROM ranked_specs rs\n",
    "WHERE CAST(REGEXP_REPLACE(rs.\"MSRP\", '[$,]', '', 'g') AS NUMERIC) > rs.overall_avg_price\n",
    "ORDER BY price_above_avg DESC\n",
    "LIMIT 15;\n",
    "'''\n",
    "df = pd.read_sql_query(sql_query, con=pg_engine)\n",
    "print(df)"
   ]
  },
  {
   "cell_type": "markdown",
   "id": "fa651876",
   "metadata": {},
   "source": [
    "Insights:\n",
    "-Good predictors: memory size, rop, release year\n",
    "-Poor predictors: gpu clock, tmu, unified shader\n",
    "-memory size and release year appears to be best prodictor for highest prices\n",
    "-GeForce RTX 5090 has the highest price above avg at 1258\n",
    "-Has more GPUs in top priced GPUs than AMD\n",
    "\n",
    "Recomendations:\n",
    "-when focusing on high end products, prioritize increasing memory size and rop to drive the highest priced sales\n",
    "-Understand AMDs business model as to why our prices are much higher (are they going for a more budget friendly approach?)\n",
    "\n",
    "Predictions:\n",
    "-higher memory sizes and rop would lead to more profit in sales\n",
    "-Continue to develop these specs to stay competitive and have higher prices than AMD creating more premium customer loyalty\n",
    "-similarly, continue to develop lower end specs to compete with AMD's possible budget friendly approach to generate more sales"
   ]
  }
 ],
 "metadata": {
  "kernelspec": {
   "display_name": "Python 3",
   "language": "python",
   "name": "python3"
  },
  "language_info": {
   "codemirror_mode": {
    "name": "ipython",
    "version": 3
   },
   "file_extension": ".py",
   "mimetype": "text/x-python",
   "name": "python",
   "nbconvert_exporter": "python",
   "pygments_lexer": "ipython3",
   "version": "3.12.1"
  }
 },
 "nbformat": 4,
 "nbformat_minor": 5
}
