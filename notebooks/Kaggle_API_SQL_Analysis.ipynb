{
 "cells": [
  {
   "cell_type": "code",
   "execution_count": 3,
   "id": "27829dc4",
   "metadata": {},
   "outputs": [],
   "source": [
    "import os\n",
    "from sqlalchemy import create_engine\n",
    "from dotenv import load_dotenv"
   ]
  },
  {
   "cell_type": "code",
   "execution_count": 4,
   "id": "57a0d124",
   "metadata": {},
   "outputs": [],
   "source": [
    "load_dotenv()\n",
    "\n",
    "pg_user = os.getenv('PG_USER')\n",
    "pg_password = os.getenv('PG_PASSWORD')\n",
    "pg_host = os.getenv('PG_HOST')\n",
    "pg_port = os.getenv('PG_PORT')\n",
    "pg_db = os.getenv('PG_GPU_DB')\n",
    "\n",
    "pg_conn_str = f\"postgresql+psycopg2://{pg_user}:{pg_password}@{pg_host}:{pg_port}/{pg_db}\"\n",
    "pg_engine = create_engine(pg_conn_str)"
   ]
  },
  {
   "cell_type": "markdown",
   "id": "a93d887a",
   "metadata": {},
   "source": [
    "Descriptive Analytics\n",
    "\n",
    "Business Question:"
   ]
  }
 ],
 "metadata": {
  "kernelspec": {
   "display_name": "Python 3",
   "language": "python",
   "name": "python3"
  },
  "language_info": {
   "codemirror_mode": {
    "name": "ipython",
    "version": 3
   },
   "file_extension": ".py",
   "mimetype": "text/x-python",
   "name": "python",
   "nbconvert_exporter": "python",
   "pygments_lexer": "ipython3",
   "version": "3.12.1"
  }
 },
 "nbformat": 4,
 "nbformat_minor": 5
}
