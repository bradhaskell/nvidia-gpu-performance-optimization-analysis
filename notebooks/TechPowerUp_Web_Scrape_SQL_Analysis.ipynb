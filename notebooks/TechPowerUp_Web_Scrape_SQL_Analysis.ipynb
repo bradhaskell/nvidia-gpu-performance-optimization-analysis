{
 "cells": [
  {
   "cell_type": "code",
   "execution_count": 3,
   "id": "62683c91",
   "metadata": {},
   "outputs": [],
   "source": [
    "import os\n",
    "from sqlalchemy import create_engine\n",
    "from dotenv import load_dotenv\n",
    "import pandas as pd"
   ]
  },
  {
   "cell_type": "code",
   "execution_count": 2,
   "id": "8450db05",
   "metadata": {},
   "outputs": [],
   "source": [
    "load_dotenv()\n",
    "\n",
    "pg_user = os.getenv('PG_USER')\n",
    "pg_password = os.getenv('PG_PASSWORD')\n",
    "pg_host = os.getenv('PG_HOST')\n",
    "pg_port = os.getenv('PG_PORT')\n",
    "pg_db = os.getenv('PG_GPU_DB')\n",
    "\n",
    "pg_conn_str = f\"postgresql+psycopg2://{pg_user}:{pg_password}@{pg_host}:{pg_port}/{pg_db}\"\n",
    "pg_engine = create_engine(pg_conn_str)"
   ]
  },
  {
   "cell_type": "markdown",
   "id": "9f7a52de",
   "metadata": {},
   "source": [
    "Descriptive Analytics\n",
    "\n",
    "Business Question:"
   ]
  },
  {
   "cell_type": "code",
   "execution_count": null,
   "id": "050ed010",
   "metadata": {},
   "outputs": [],
   "source": [
    "sql_query = '''\n",
    "SELECT ...\n",
    "FROM ...\n",
    "WHERE ...\n",
    "GROUP BY ...\n",
    "'''\n",
    "df = pd.read_sql(sql_query, pg_conn_str)"
   ]
  },
  {
   "cell_type": "markdown",
   "id": "7a704c0e",
   "metadata": {},
   "source": [
    "Diagnostic Analytics\n",
    "\n",
    "Business Question"
   ]
  },
  {
   "cell_type": "code",
   "execution_count": null,
   "id": "607e7147",
   "metadata": {},
   "outputs": [],
   "source": [
    "sql_query = '''\n",
    "SELECT ...\n",
    "FROM ...\n",
    "WHERE ...\n",
    "GROUP BY ...\n",
    "'''\n",
    "df = pd.read_sql(sql_query, pg_conn_str)"
   ]
  }
 ],
 "metadata": {
  "kernelspec": {
   "display_name": "Python 3",
   "language": "python",
   "name": "python3"
  },
  "language_info": {
   "codemirror_mode": {
    "name": "ipython",
    "version": 3
   },
   "file_extension": ".py",
   "mimetype": "text/x-python",
   "name": "python",
   "nbconvert_exporter": "python",
   "pygments_lexer": "ipython3",
   "version": "3.12.1"
  }
 },
 "nbformat": 4,
 "nbformat_minor": 5
}
