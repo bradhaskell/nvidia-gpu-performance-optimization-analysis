{
 "cells": [
  {
   "cell_type": "code",
   "execution_count": 2,
   "id": "62683c91",
   "metadata": {},
   "outputs": [],
   "source": [
    "import os\n",
    "from sqlalchemy import create_engine\n",
    "from dotenv import load_dotenv\n",
    "import pandas as pd"
   ]
  },
  {
   "cell_type": "code",
   "execution_count": 3,
   "id": "8450db05",
   "metadata": {},
   "outputs": [],
   "source": [
    "load_dotenv()\n",
    "\n",
    "pg_user = os.getenv('PG_USER')\n",
    "pg_password = os.getenv('PG_PASSWORD')\n",
    "pg_host = os.getenv('PG_HOST')\n",
    "pg_port = os.getenv('PG_PORT')\n",
    "pg_db = os.getenv('PG_GPU_DB')\n",
    "\n",
    "pg_conn_str = f\"postgresql+psycopg2://{pg_user}:{pg_password}@{pg_host}:{pg_port}/{pg_db}\"\n",
    "pg_engine = create_engine(pg_conn_str)"
   ]
  },
  {
   "cell_type": "markdown",
   "id": "9f7a52de",
   "metadata": {},
   "source": [
    "Descriptive Analytics\n",
    "\n",
    "Business Question: What are the average performance metrics for each GPU Chip?"
   ]
  },
  {
   "cell_type": "code",
   "execution_count": 9,
   "id": "050ed010",
   "metadata": {},
   "outputs": [
    {
     "name": "stdout",
     "output_type": "stream",
     "text": [
      "        gpuChip  avg_fps_1080p_medium  avg_fps_1080p_ultra  \\\n",
      "0  Arctic Sound                200.30               154.60   \n",
      "1         GA102                184.10               142.70   \n",
      "2         GA103                140.20               102.60   \n",
      "3         GA100                121.40                83.80   \n",
      "4         GV100                123.13                85.63   \n",
      "5         GA104                107.10                71.00   \n",
      "6       Navi 21                101.40                69.40   \n",
      "7       Vega 20                 82.30                51.60   \n",
      "8        Thames                 48.60                27.50   \n",
      "\n",
      "   avg_fps_1440p_ultra  avg_fps_4k_ultra  num_models  \n",
      "0               137.70             89.60           1  \n",
      "1               117.70             70.60           1  \n",
      "2                74.30             40.20           1  \n",
      "3                60.30             33.17           3  \n",
      "4                59.13             30.53           3  \n",
      "5                49.20             27.00           1  \n",
      "6                47.40             24.85           2  \n",
      "7                33.10             15.10           1  \n",
      "8                14.50              7.00           1  \n"
     ]
    }
   ],
   "source": [
    "sql_query = r'''\n",
    "WITH performance_data AS (\n",
    "    SELECT\n",
    "        s.\"gpuChip\",\n",
    "        CAST((REGEXP_MATCHES(w.\"1080p Medium\", '\\(([\\d\\.]+)\\)'))[1] AS NUMERIC) AS fps_1080p_medium,\n",
    "        CAST((REGEXP_MATCHES(w.\"1080p Ultra\", '\\(([\\d\\.]+)\\)'))[1] AS NUMERIC) AS fps_1080p_ultra,\n",
    "        CAST((REGEXP_MATCHES(w.\"1440p Ultra\", '\\(([\\d\\.]+)\\)'))[1] AS NUMERIC) AS fps_1440p_ultra,\n",
    "        CAST((REGEXP_MATCHES(w.\"4K Ultra\", '\\(([\\d\\.]+)\\)'))[1] AS NUMERIC) AS fps_4k_ultra\n",
    "    FROM sql_project.gpu_specs_raw s\n",
    "    JOIN sql_project.gpu_hierarchy_web_raw w\n",
    "        ON s.\"productName\" = w.\"Graphics Card\"\n",
    "    WHERE w.\"4K Ultra\" ~ '\\([\\d\\.]+\\)'\n",
    ")\n",
    "SELECT\n",
    "    p.\"gpuChip\",\n",
    "    ROUND(AVG(p.fps_1080p_medium), 2) AS avg_fps_1080p_medium,\n",
    "    ROUND(AVG(p.fps_1080p_ultra), 2) AS avg_fps_1080p_ultra,\n",
    "    ROUND(AVG(p.fps_1440p_ultra), 2) AS avg_fps_1440p_ultra,\n",
    "    ROUND(AVG(p.fps_4k_ultra), 2) AS avg_fps_4k_ultra,\n",
    "    COUNT(*) AS num_models\n",
    "FROM performance_data p\n",
    "GROUP BY p.\"gpuChip\"\n",
    "ORDER BY avg_fps_4k_ultra DESC;\n",
    "'''\n",
    "df = pd.read_sql_query(sql_query, con=pg_engine)\n",
    "print(df)"
   ]
  },
  {
   "cell_type": "markdown",
   "id": "3879bad9",
   "metadata": {},
   "source": [
    "Insights:\n",
    "-Arctic Sound appears to be the chip with the best performance at 100% all around\n",
    "-200 fps on 1080p for th eArtic Sound is the top performance\n",
    "-Thames is the chip with the worst performance\n",
    "-7fps on 4k ultra for thames is the lowest performance\n",
    "\n",
    "Recommendations:\n",
    "-prioritize chips such as Arctic Sound and GA chips to manufacture products with the best performance\n",
    "-define business model, stay away from Thames but potentially use Navi for budget friendly products despite the lower performance\n",
    "\n",
    "Predictions:\n",
    "-prioritizing higher quality chips will make better products and lead to more purchases\n",
    "-using budget friendly chips would increase purchases for those who are on a budget"
   ]
  },
  {
   "cell_type": "markdown",
   "id": "7a704c0e",
   "metadata": {},
   "source": [
    "Diagnostic Analytics\n",
    "\n",
    "Business Question: What are the highest ranked GPUs based on the performance metrics of the GPU chip?"
   ]
  },
  {
   "cell_type": "code",
   "execution_count": 10,
   "id": "607e7147",
   "metadata": {},
   "outputs": [
    {
     "name": "stdout",
     "output_type": "stream",
     "text": [
      "    fps_rank          productName  releaseYear       gpuChip  fps_4k_ultra\n",
      "0          1     GeForce RTX 5090       2025.0  Arctic Sound          89.6\n",
      "1          2     GeForce RTX 4090       2022.0         GA102          70.6\n",
      "2          3     GeForce RTX 5080       2025.0         GA100          57.0\n",
      "3          4   Radeon RX 7900 XTX       2022.0         GA103          40.2\n",
      "4          5  GeForce RTX 4070 Ti       2023.0         GV100          40.0\n",
      "5          6     GeForce RTX 5070       2025.0       Navi 21          36.4\n",
      "6          7    Radeon RX 7900 XT       2022.0         GA100          34.4\n",
      "7          8     GeForce RTX 4070       2023.0         GV100          30.3\n",
      "8          9    Radeon RX 7800 XT       2023.0         GA104          27.0\n",
      "9         10    Radeon RX 7700 XT       2023.0         GV100          21.3\n",
      "10        11     GeForce RTX 4060       2023.0       Vega 20          15.1\n",
      "11        12    Radeon RX 7600 XT       2024.0       Navi 21          13.3\n",
      "12        13       Radeon RX 7600       2023.0         GA100           8.1\n",
      "13        14       Radeon RX 6600       2021.0        Thames           7.0\n"
     ]
    }
   ],
   "source": [
    "sql_query = r'''\n",
    "WITH joined_data AS (\n",
    "    SELECT\n",
    "        s.\"productName\",\n",
    "        s.\"gpuChip\",\n",
    "        s.\"releaseYear\",\n",
    "        CAST((REGEXP_MATCHES(w.\"4K Ultra\", '\\(([\\d\\.]+)\\)'))[1] AS NUMERIC) AS fps_4k_ultra\n",
    "    FROM sql_project.gpu_specs_raw s\n",
    "    JOIN sql_project.gpu_hierarchy_web_raw w\n",
    "        ON s.\"productName\" = w.\"Graphics Card\"\n",
    "    WHERE w.\"4K Ultra\" ~ '\\([\\d\\.]+\\)'\n",
    "),\n",
    "ranked_gpus AS (\n",
    "    SELECT *,\n",
    "           RANK() OVER (ORDER BY fps_4k_ultra DESC) AS fps_rank\n",
    "    FROM joined_data\n",
    ")\n",
    "SELECT\n",
    "    r.fps_rank,\n",
    "    r.\"productName\",\n",
    "    r.\"releaseYear\",\n",
    "    r.\"gpuChip\",\n",
    "    r.fps_4k_ultra\n",
    "FROM ranked_gpus r\n",
    "ORDER BY r.fps_rank\n",
    "LIMIT 15;\n",
    "'''\n",
    "df = pd.read_sql(sql_query, pg_conn_str)\n",
    "print(df)"
   ]
  },
  {
   "cell_type": "markdown",
   "id": "5d10b317",
   "metadata": {},
   "source": [
    "Insights:\n",
    "-NVIDIA holds the top 3 GPUs based on chips and performance\n",
    "-Bottom 3 spots based on performance are held by AMD \n",
    "-The top NVIDIA GPU gets more than double the fps as the top AMD performer\n",
    "\n",
    "Recommendations:\n",
    "-continue product manufacturing to stay ahead of AMD based on performance\n",
    "-Look into creating more products with Arctic Sound chip to further boost products with good performances\n",
    "\n",
    "Predictions:\n",
    "-Staying ahead of AMD will build more loyal customers who value our products performance\n",
    "-Using more of the higher end chips offers more variaty for premium customers leading to more purchases"
   ]
  }
 ],
 "metadata": {
  "kernelspec": {
   "display_name": "Python 3",
   "language": "python",
   "name": "python3"
  },
  "language_info": {
   "codemirror_mode": {
    "name": "ipython",
    "version": 3
   },
   "file_extension": ".py",
   "mimetype": "text/x-python",
   "name": "python",
   "nbconvert_exporter": "python",
   "pygments_lexer": "ipython3",
   "version": "3.12.1"
  }
 },
 "nbformat": 4,
 "nbformat_minor": 5
}
