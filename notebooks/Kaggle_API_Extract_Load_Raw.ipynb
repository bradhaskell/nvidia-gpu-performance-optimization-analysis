{
 "cells": [
  {
   "cell_type": "code",
   "execution_count": 1,
   "metadata": {},
   "outputs": [
    {
     "name": "stdout",
     "output_type": "stream",
     "text": [
      "Collecting kaggle\n",
      "  Downloading kaggle-1.7.4.2-py3-none-any.whl.metadata (16 kB)\n",
      "Collecting psycopg2-binary\n",
      "  Downloading psycopg2_binary-2.9.10-cp312-cp312-manylinux_2_17_x86_64.manylinux2014_x86_64.whl.metadata (4.9 kB)\n",
      "Collecting sqlalchemy\n",
      "  Downloading sqlalchemy-2.0.40-cp312-cp312-manylinux_2_17_x86_64.manylinux2014_x86_64.whl.metadata (9.6 kB)\n",
      "Requirement already satisfied: pandas in /home/codespace/.local/lib/python3.12/site-packages (2.2.3)\n",
      "Requirement already satisfied: requests in /home/codespace/.local/lib/python3.12/site-packages (2.32.3)\n",
      "Requirement already satisfied: beautifulsoup4 in /home/codespace/.local/lib/python3.12/site-packages (4.13.3)\n",
      "Collecting lxml\n",
      "  Downloading lxml-5.4.0-cp312-cp312-manylinux_2_28_x86_64.whl.metadata (3.5 kB)\n",
      "Collecting python-dotenv\n",
      "  Downloading python_dotenv-1.1.0-py3-none-any.whl.metadata (24 kB)\n",
      "Requirement already satisfied: bleach in /home/codespace/.local/lib/python3.12/site-packages (from kaggle) (6.2.0)\n",
      "Requirement already satisfied: certifi>=14.05.14 in /home/codespace/.local/lib/python3.12/site-packages (from kaggle) (2025.1.31)\n",
      "Requirement already satisfied: charset-normalizer in /home/codespace/.local/lib/python3.12/site-packages (from kaggle) (3.4.1)\n",
      "Requirement already satisfied: idna in /home/codespace/.local/lib/python3.12/site-packages (from kaggle) (3.10)\n",
      "Collecting protobuf (from kaggle)\n",
      "  Downloading protobuf-6.30.2-cp39-abi3-manylinux2014_x86_64.whl.metadata (593 bytes)\n",
      "Requirement already satisfied: python-dateutil>=2.5.3 in /home/codespace/.local/lib/python3.12/site-packages (from kaggle) (2.9.0.post0)\n",
      "Collecting python-slugify (from kaggle)\n",
      "  Downloading python_slugify-8.0.4-py2.py3-none-any.whl.metadata (8.5 kB)\n",
      "Requirement already satisfied: setuptools>=21.0.0 in /home/codespace/.local/lib/python3.12/site-packages (from kaggle) (76.0.0)\n",
      "Requirement already satisfied: six>=1.10 in /home/codespace/.local/lib/python3.12/site-packages (from kaggle) (1.17.0)\n",
      "Collecting text-unidecode (from kaggle)\n",
      "  Downloading text_unidecode-1.3-py2.py3-none-any.whl.metadata (2.4 kB)\n",
      "Collecting tqdm (from kaggle)\n",
      "  Downloading tqdm-4.67.1-py3-none-any.whl.metadata (57 kB)\n",
      "Requirement already satisfied: urllib3>=1.15.1 in /home/codespace/.local/lib/python3.12/site-packages (from kaggle) (2.3.0)\n",
      "Requirement already satisfied: webencodings in /home/codespace/.local/lib/python3.12/site-packages (from kaggle) (0.5.1)\n",
      "Collecting greenlet>=1 (from sqlalchemy)\n",
      "  Downloading greenlet-3.2.1-cp312-cp312-manylinux_2_24_x86_64.manylinux_2_28_x86_64.whl.metadata (4.1 kB)\n",
      "Requirement already satisfied: typing-extensions>=4.6.0 in /home/codespace/.local/lib/python3.12/site-packages (from sqlalchemy) (4.12.2)\n",
      "Requirement already satisfied: numpy>=1.26.0 in /home/codespace/.local/lib/python3.12/site-packages (from pandas) (2.2.4)\n",
      "Requirement already satisfied: pytz>=2020.1 in /home/codespace/.local/lib/python3.12/site-packages (from pandas) (2025.1)\n",
      "Requirement already satisfied: tzdata>=2022.7 in /home/codespace/.local/lib/python3.12/site-packages (from pandas) (2025.1)\n",
      "Requirement already satisfied: soupsieve>1.2 in /home/codespace/.local/lib/python3.12/site-packages (from beautifulsoup4) (2.6)\n",
      "Downloading kaggle-1.7.4.2-py3-none-any.whl (173 kB)\n",
      "Downloading psycopg2_binary-2.9.10-cp312-cp312-manylinux_2_17_x86_64.manylinux2014_x86_64.whl (3.0 MB)\n",
      "\u001b[2K   \u001b[90m━━━━━━━━━━━━━━━━━━━━━━━━━━━━━━━━━━━━━━━━\u001b[0m \u001b[32m3.0/3.0 MB\u001b[0m \u001b[31m30.6 MB/s\u001b[0m eta \u001b[36m0:00:00\u001b[0m\n",
      "\u001b[?25hDownloading sqlalchemy-2.0.40-cp312-cp312-manylinux_2_17_x86_64.manylinux2014_x86_64.whl (3.3 MB)\n",
      "\u001b[2K   \u001b[90m━━━━━━━━━━━━━━━━━━━━━━━━━━━━━━━━━━━━━━━━\u001b[0m \u001b[32m3.3/3.3 MB\u001b[0m \u001b[31m33.9 MB/s\u001b[0m eta \u001b[36m0:00:00\u001b[0m\n",
      "\u001b[?25hDownloading lxml-5.4.0-cp312-cp312-manylinux_2_28_x86_64.whl (5.0 MB)\n",
      "\u001b[2K   \u001b[90m━━━━━━━━━━━━━━━━━━━━━━━━━━━━━━━━━━━━━━━━\u001b[0m \u001b[32m5.0/5.0 MB\u001b[0m \u001b[31m25.5 MB/s\u001b[0m eta \u001b[36m0:00:00\u001b[0m\n",
      "\u001b[?25hDownloading python_dotenv-1.1.0-py3-none-any.whl (20 kB)\n",
      "Downloading greenlet-3.2.1-cp312-cp312-manylinux_2_24_x86_64.manylinux_2_28_x86_64.whl (603 kB)\n",
      "\u001b[2K   \u001b[90m━━━━━━━━━━━━━━━━━━━━━━━━━━━━━━━━━━━━━━━━\u001b[0m \u001b[32m603.8/603.8 kB\u001b[0m \u001b[31m10.8 MB/s\u001b[0m eta \u001b[36m0:00:00\u001b[0m\n",
      "\u001b[?25hDownloading protobuf-6.30.2-cp39-abi3-manylinux2014_x86_64.whl (316 kB)\n",
      "Downloading python_slugify-8.0.4-py2.py3-none-any.whl (10 kB)\n",
      "Downloading text_unidecode-1.3-py2.py3-none-any.whl (78 kB)\n",
      "Downloading tqdm-4.67.1-py3-none-any.whl (78 kB)\n",
      "Installing collected packages: text-unidecode, tqdm, python-slugify, python-dotenv, psycopg2-binary, protobuf, lxml, greenlet, sqlalchemy, kaggle\n",
      "\u001b[33m  WARNING: The script tqdm is installed in '/usr/local/python/3.12.1/bin' which is not on PATH.\n",
      "  Consider adding this directory to PATH or, if you prefer to suppress this warning, use --no-warn-script-location.\u001b[0m\u001b[33m\n",
      "\u001b[0m\u001b[33m  WARNING: The script slugify is installed in '/usr/local/python/3.12.1/bin' which is not on PATH.\n",
      "  Consider adding this directory to PATH or, if you prefer to suppress this warning, use --no-warn-script-location.\u001b[0m\u001b[33m\n",
      "\u001b[0m\u001b[33m  WARNING: The script dotenv is installed in '/usr/local/python/3.12.1/bin' which is not on PATH.\n",
      "  Consider adding this directory to PATH or, if you prefer to suppress this warning, use --no-warn-script-location.\u001b[0m\u001b[33m\n",
      "\u001b[0m\u001b[33m  WARNING: The script kaggle is installed in '/usr/local/python/3.12.1/bin' which is not on PATH.\n",
      "  Consider adding this directory to PATH or, if you prefer to suppress this warning, use --no-warn-script-location.\u001b[0m\u001b[33m\n",
      "\u001b[0mSuccessfully installed greenlet-3.2.1 kaggle-1.7.4.2 lxml-5.4.0 protobuf-6.30.2 psycopg2-binary-2.9.10 python-dotenv-1.1.0 python-slugify-8.0.4 sqlalchemy-2.0.40 text-unidecode-1.3 tqdm-4.67.1\n",
      "\n",
      "\u001b[1m[\u001b[0m\u001b[34;49mnotice\u001b[0m\u001b[1;39;49m]\u001b[0m\u001b[39;49m A new release of pip is available: \u001b[0m\u001b[31;49m25.0.1\u001b[0m\u001b[39;49m -> \u001b[0m\u001b[32;49m25.1\u001b[0m\n",
      "\u001b[1m[\u001b[0m\u001b[34;49mnotice\u001b[0m\u001b[1;39;49m]\u001b[0m\u001b[39;49m To update, run: \u001b[0m\u001b[32;49mpython -m pip install --upgrade pip\u001b[0m\n",
      "Note: you may need to restart the kernel to use updated packages.\n"
     ]
    }
   ],
   "source": [
    "%pip install kaggle psycopg2-binary sqlalchemy pandas requests beautifulsoup4 lxml python-dotenv"
   ]
  },
  {
   "cell_type": "code",
   "execution_count": 14,
   "metadata": {},
   "outputs": [],
   "source": [
    "import os\n",
    "import pandas as pd\n",
    "from kaggle.api.kaggle_api_extended import KaggleApi\n",
    "from dotenv import load_dotenv\n",
    "from sqlalchemy import create_engine, text"
   ]
  },
  {
   "cell_type": "code",
   "execution_count": 3,
   "metadata": {},
   "outputs": [
    {
     "name": "stdout",
     "output_type": "stream",
     "text": [
      "Dataset URL: https://www.kaggle.com/datasets/alanjo/graphics-card-full-specs\n"
     ]
    }
   ],
   "source": [
    "load_dotenv()\n",
    "\n",
    "os.environ[\"KAGGLE_USERNAME\"] = os.getenv(\"KAGGLE_USERNAME\")\n",
    "os.environ[\"KAGGLE_KEY\"] = os.getenv(\"KAGGLE_KEY\")\n",
    "\n",
    "api = KaggleApi()\n",
    "api.authenticate()\n",
    "\n",
    "dataset_slug = \"alanjo/graphics-card-full-specs\"\n",
    "api.dataset_download_files(dataset_slug, path='./data/kaggle', unzip=True)"
   ]
  },
  {
   "cell_type": "code",
   "execution_count": 4,
   "metadata": {},
   "outputs": [
    {
     "name": "stdout",
     "output_type": "stream",
     "text": [
      "gpu_specs_v6.csv\n",
      "gpu_specs_v7.csv\n"
     ]
    }
   ],
   "source": [
    "for root, dirs, files in os.walk(\"./data/kaggle\"):\n",
    "    for file in files:\n",
    "        print(file)"
   ]
  },
  {
   "cell_type": "code",
   "execution_count": 5,
   "metadata": {},
   "outputs": [
    {
     "name": "stdout",
     "output_type": "stream",
     "text": [
      "  manufacturer              productName  releaseYear  memSize  memBusWidth  \\\n",
      "0       NVIDIA         GeForce RTX 5090       2025.0     28.0        448.0   \n",
      "1       NVIDIA         GeForce RTX 5080       2025.0     16.0        256.0   \n",
      "2       NVIDIA         GeForce RTX 5070       2025.0     12.0        192.0   \n",
      "3       NVIDIA  GeForce RTX 5060 Mobile       2025.0      8.0        128.0   \n",
      "4       NVIDIA         GeForce RTX 5060       2025.0      8.0        128.0   \n",
      "\n",
      "   gpuClock  memClock  unifiedShader  tmu  rop  pixelShader  vertexShader igp  \\\n",
      "0       900    1200.0         8192.0  256  128          NaN           NaN  No   \n",
      "1       900    1215.0         6912.0  432  192          NaN           NaN  No   \n",
      "2      1825    2000.0         5120.0  320  128          NaN           NaN  No   \n",
      "3      2235    2500.0         4608.0  144   48          NaN           NaN  No   \n",
      "4      1825    2250.0         4608.0  288  192          NaN           NaN  No   \n",
      "\n",
      "            bus memType       gpuChip  \n",
      "0  PCIe 4.0 x16   HBM2e  Arctic Sound  \n",
      "1  PCIe 4.0 x16   HBM2e         GA100  \n",
      "2  PCIe 4.0 x16   GDDR6       Navi 21  \n",
      "3  PCIe 5.0 x16   GDDR7         GB206  \n",
      "4  PCIe 4.0 x16   GDDR6       Navi 31  \n"
     ]
    }
   ],
   "source": [
    "df = pd.read_csv(\"./data/kaggle/gpu_specs_v7.csv\")\n",
    "\n",
    "df.reset_index(drop=True, inplace=True)\n",
    "print(df.head())"
   ]
  },
  {
   "cell_type": "code",
   "execution_count": 6,
   "metadata": {},
   "outputs": [
    {
     "name": "stdout",
     "output_type": "stream",
     "text": [
      "Index(['manufacturer', 'productName', 'releaseYear', 'memSize', 'memBusWidth',\n",
      "       'gpuClock', 'memClock', 'unifiedShader', 'tmu', 'rop', 'pixelShader',\n",
      "       'vertexShader', 'igp', 'bus', 'memType', 'gpuChip'],\n",
      "      dtype='object')\n",
      "<bound method DataFrame.info of      manufacturer              productName  releaseYear  memSize  memBusWidth  \\\n",
      "0          NVIDIA         GeForce RTX 5090       2025.0   28.000        448.0   \n",
      "1          NVIDIA         GeForce RTX 5080       2025.0   16.000        256.0   \n",
      "2          NVIDIA         GeForce RTX 5070       2025.0   12.000        192.0   \n",
      "3          NVIDIA  GeForce RTX 5060 Mobile       2025.0    8.000        128.0   \n",
      "4          NVIDIA         GeForce RTX 5060       2025.0    8.000        128.0   \n",
      "...           ...                      ...          ...      ...          ...   \n",
      "3051          ATI     Radeon X1600 XT Dual          NaN    0.256          NaN   \n",
      "3052          AMD        Radeon Pro V5300X          NaN    4.000          NaN   \n",
      "3053          ATI           Radeon 8500 XT          NaN    0.128          NaN   \n",
      "3054       NVIDIA                 NVS 1000          NaN    2.000          NaN   \n",
      "3055          ATI           Radeon 8500 X4          NaN    0.064          NaN   \n",
      "\n",
      "      gpuClock  memClock  unifiedShader  tmu  rop  pixelShader  vertexShader  \\\n",
      "0          900    1200.0         8192.0  256  128          NaN           NaN   \n",
      "1          900    1215.0         6912.0  432  192          NaN           NaN   \n",
      "2         1825    2000.0         5120.0  320  128          NaN           NaN   \n",
      "3         2235    2500.0         4608.0  144   48          NaN           NaN   \n",
      "4         1825    2250.0         4608.0  288  192          NaN           NaN   \n",
      "...        ...       ...            ...  ...  ...          ...           ...   \n",
      "3051       523     875.0           48.0    8    4          NaN           NaN   \n",
      "3052       523     875.0           48.0    8    4          NaN           NaN   \n",
      "3053       874     825.0           48.0    8    4          NaN           NaN   \n",
      "3054       874     825.0           48.0    8    4          NaN           NaN   \n",
      "3055       350     325.0            NaN    8    8          8.0           4.0   \n",
      "\n",
      "     igp           bus memType       gpuChip  \n",
      "0     No  PCIe 4.0 x16   HBM2e  Arctic Sound  \n",
      "1     No  PCIe 4.0 x16   HBM2e         GA100  \n",
      "2     No  PCIe 4.0 x16   GDDR6       Navi 21  \n",
      "3     No  PCIe 5.0 x16   GDDR7         GB206  \n",
      "4     No  PCIe 4.0 x16   GDDR6       Navi 31  \n",
      "...   ..           ...     ...           ...  \n",
      "3051  No  PCIe 2.0 x16    DDR3         GF119  \n",
      "3052  No  PCIe 2.0 x16    DDR3         GF119  \n",
      "3053  No  PCIe 2.0 x16    DDR3         GF119  \n",
      "3054  No  PCIe 2.0 x16    DDR3         GF119  \n",
      "3055  No        AGP 8x    DDR2           G73  \n",
      "\n",
      "[3056 rows x 16 columns]>\n"
     ]
    }
   ],
   "source": [
    "print(df.columns)\n",
    "print(df.info)"
   ]
  },
  {
   "cell_type": "code",
   "execution_count": 11,
   "metadata": {},
   "outputs": [],
   "source": [
    "load_dotenv()\n",
    "\n",
    "pg_user = os.getenv('PG_USER')\n",
    "pg_password = os.getenv('PG_PASSWORD')\n",
    "pg_host = os.getenv('PG_HOST')\n",
    "pg_port = os.getenv('PG_PORT')\n",
    "pg_db = os.getenv('PG_GPU_DB')\n",
    "\n",
    "pg_conn_str = f\"postgresql+psycopg2://{pg_user}:{pg_password}@{pg_host}:{pg_port}/{pg_db}\"\n",
    "pg_engine = create_engine(pg_conn_str)"
   ]
  },
  {
   "cell_type": "code",
   "execution_count": 12,
   "metadata": {},
   "outputs": [
    {
     "name": "stdout",
     "output_type": "stream",
     "text": [
      "Shape of DataFrame: (3056, 16)\n",
      "  manufacturer              productName  releaseYear  memSize  memBusWidth  \\\n",
      "0       NVIDIA         GeForce RTX 5090       2025.0     28.0        448.0   \n",
      "1       NVIDIA         GeForce RTX 5080       2025.0     16.0        256.0   \n",
      "2       NVIDIA         GeForce RTX 5070       2025.0     12.0        192.0   \n",
      "3       NVIDIA  GeForce RTX 5060 Mobile       2025.0      8.0        128.0   \n",
      "4       NVIDIA         GeForce RTX 5060       2025.0      8.0        128.0   \n",
      "\n",
      "   gpuClock  memClock  unifiedShader  tmu  rop  pixelShader  vertexShader igp  \\\n",
      "0       900    1200.0         8192.0  256  128          NaN           NaN  No   \n",
      "1       900    1215.0         6912.0  432  192          NaN           NaN  No   \n",
      "2      1825    2000.0         5120.0  320  128          NaN           NaN  No   \n",
      "3      2235    2500.0         4608.0  144   48          NaN           NaN  No   \n",
      "4      1825    2250.0         4608.0  288  192          NaN           NaN  No   \n",
      "\n",
      "            bus memType       gpuChip  \n",
      "0  PCIe 4.0 x16   HBM2e  Arctic Sound  \n",
      "1  PCIe 4.0 x16   HBM2e         GA100  \n",
      "2  PCIe 4.0 x16   GDDR6       Navi 21  \n",
      "3  PCIe 5.0 x16   GDDR7         GB206  \n",
      "4  PCIe 4.0 x16   GDDR6       Navi 31  \n"
     ]
    }
   ],
   "source": [
    "print(\"Shape of DataFrame:\", df.shape)\n",
    "print(df.head())"
   ]
  },
  {
   "cell_type": "code",
   "execution_count": 15,
   "metadata": {},
   "outputs": [
    {
     "name": "stdout",
     "output_type": "stream",
     "text": [
      "('sql_project',)\n"
     ]
    }
   ],
   "source": [
    "with pg_engine.connect() as conn:\n",
    "    result = conn.execute(text(\"SELECT schema_name FROM information_schema.schemata WHERE schema_name = 'sql_project';\"))\n",
    "    for row in result:\n",
    "        print(row)"
   ]
  },
  {
   "cell_type": "code",
   "execution_count": 16,
   "metadata": {},
   "outputs": [
    {
     "data": {
      "text/plain": [
       "56"
      ]
     },
     "execution_count": 16,
     "metadata": {},
     "output_type": "execute_result"
    }
   ],
   "source": [
    "df.to_sql(name=\"gpu_specs_raw\", con=pg_engine, schema=\"sql_project\", if_exists=\"replace\", index=False) "
   ]
  }
 ],
 "metadata": {
  "kernelspec": {
   "display_name": "Python 3",
   "language": "python",
   "name": "python3"
  },
  "language_info": {
   "codemirror_mode": {
    "name": "ipython",
    "version": 3
   },
   "file_extension": ".py",
   "mimetype": "text/x-python",
   "name": "python",
   "nbconvert_exporter": "python",
   "pygments_lexer": "ipython3",
   "version": "3.12.1"
  }
 },
 "nbformat": 4,
 "nbformat_minor": 2
}
