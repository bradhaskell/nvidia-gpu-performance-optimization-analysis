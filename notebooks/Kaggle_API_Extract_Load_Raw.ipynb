{
 "cells": [
  {
   "cell_type": "code",
   "execution_count": 28,
   "metadata": {},
   "outputs": [
    {
     "name": "stdout",
     "output_type": "stream",
     "text": [
      "Defaulting to user installation because normal site-packages is not writeable\n",
      "Requirement already satisfied: kaggle in c:\\users\\brad\\appdata\\local\\packages\\pythonsoftwarefoundation.python.3.12_qbz5n2kfra8p0\\localcache\\local-packages\\python312\\site-packages (1.7.4.2)\n",
      "Requirement already satisfied: psycopg2-binary in c:\\users\\brad\\appdata\\local\\packages\\pythonsoftwarefoundation.python.3.12_qbz5n2kfra8p0\\localcache\\local-packages\\python312\\site-packages (2.9.10)\n",
      "Requirement already satisfied: sqlalchemy in c:\\users\\brad\\appdata\\local\\packages\\pythonsoftwarefoundation.python.3.12_qbz5n2kfra8p0\\localcache\\local-packages\\python312\\site-packages (2.0.36)\n",
      "Requirement already satisfied: pandas in c:\\users\\brad\\appdata\\local\\packages\\pythonsoftwarefoundation.python.3.12_qbz5n2kfra8p0\\localcache\\local-packages\\python312\\site-packages (2.2.3)\n",
      "Requirement already satisfied: requests in c:\\users\\brad\\appdata\\local\\packages\\pythonsoftwarefoundation.python.3.12_qbz5n2kfra8p0\\localcache\\local-packages\\python312\\site-packages (2.32.3)\n",
      "Requirement already satisfied: beautifulsoup4 in c:\\users\\brad\\appdata\\local\\packages\\pythonsoftwarefoundation.python.3.12_qbz5n2kfra8p0\\localcache\\local-packages\\python312\\site-packages (4.13.4)\n",
      "Requirement already satisfied: lxml in c:\\users\\brad\\appdata\\local\\packages\\pythonsoftwarefoundation.python.3.12_qbz5n2kfra8p0\\localcache\\local-packages\\python312\\site-packages (5.3.2)\n",
      "Requirement already satisfied: python-dotenv in c:\\users\\brad\\appdata\\local\\packages\\pythonsoftwarefoundation.python.3.12_qbz5n2kfra8p0\\localcache\\local-packages\\python312\\site-packages (1.1.0)\n",
      "Requirement already satisfied: bleach in c:\\users\\brad\\appdata\\local\\packages\\pythonsoftwarefoundation.python.3.12_qbz5n2kfra8p0\\localcache\\local-packages\\python312\\site-packages (from kaggle) (6.2.0)\n",
      "Requirement already satisfied: certifi>=14.05.14 in c:\\users\\brad\\appdata\\local\\packages\\pythonsoftwarefoundation.python.3.12_qbz5n2kfra8p0\\localcache\\local-packages\\python312\\site-packages (from kaggle) (2024.8.30)\n",
      "Requirement already satisfied: charset-normalizer in c:\\users\\brad\\appdata\\local\\packages\\pythonsoftwarefoundation.python.3.12_qbz5n2kfra8p0\\localcache\\local-packages\\python312\\site-packages (from kaggle) (3.4.0)\n",
      "Requirement already satisfied: idna in c:\\users\\brad\\appdata\\local\\packages\\pythonsoftwarefoundation.python.3.12_qbz5n2kfra8p0\\localcache\\local-packages\\python312\\site-packages (from kaggle) (3.10)\n",
      "Requirement already satisfied: protobuf in c:\\users\\brad\\appdata\\local\\packages\\pythonsoftwarefoundation.python.3.12_qbz5n2kfra8p0\\localcache\\local-packages\\python312\\site-packages (from kaggle) (6.30.2)\n",
      "Requirement already satisfied: python-dateutil>=2.5.3 in c:\\users\\brad\\appdata\\local\\packages\\pythonsoftwarefoundation.python.3.12_qbz5n2kfra8p0\\localcache\\local-packages\\python312\\site-packages (from kaggle) (2.9.0.post0)\n",
      "Requirement already satisfied: python-slugify in c:\\users\\brad\\appdata\\local\\packages\\pythonsoftwarefoundation.python.3.12_qbz5n2kfra8p0\\localcache\\local-packages\\python312\\site-packages (from kaggle) (8.0.4)\n",
      "Requirement already satisfied: setuptools>=21.0.0 in c:\\users\\brad\\appdata\\local\\packages\\pythonsoftwarefoundation.python.3.12_qbz5n2kfra8p0\\localcache\\local-packages\\python312\\site-packages (from kaggle) (79.0.0)\n",
      "Requirement already satisfied: six>=1.10 in c:\\users\\brad\\appdata\\local\\packages\\pythonsoftwarefoundation.python.3.12_qbz5n2kfra8p0\\localcache\\local-packages\\python312\\site-packages (from kaggle) (1.16.0)\n",
      "Requirement already satisfied: text-unidecode in c:\\users\\brad\\appdata\\local\\packages\\pythonsoftwarefoundation.python.3.12_qbz5n2kfra8p0\\localcache\\local-packages\\python312\\site-packages (from kaggle) (1.3)\n",
      "Requirement already satisfied: tqdm in c:\\users\\brad\\appdata\\local\\packages\\pythonsoftwarefoundation.python.3.12_qbz5n2kfra8p0\\localcache\\local-packages\\python312\\site-packages (from kaggle) (4.67.1)\n",
      "Requirement already satisfied: urllib3>=1.15.1 in c:\\users\\brad\\appdata\\local\\packages\\pythonsoftwarefoundation.python.3.12_qbz5n2kfra8p0\\localcache\\local-packages\\python312\\site-packages (from kaggle) (2.2.3)\n",
      "Requirement already satisfied: webencodings in c:\\users\\brad\\appdata\\local\\packages\\pythonsoftwarefoundation.python.3.12_qbz5n2kfra8p0\\localcache\\local-packages\\python312\\site-packages (from kaggle) (0.5.1)\n",
      "Requirement already satisfied: typing-extensions>=4.6.0 in c:\\users\\brad\\appdata\\local\\packages\\pythonsoftwarefoundation.python.3.12_qbz5n2kfra8p0\\localcache\\local-packages\\python312\\site-packages (from sqlalchemy) (4.12.2)\n",
      "Requirement already satisfied: greenlet!=0.4.17 in c:\\users\\brad\\appdata\\local\\packages\\pythonsoftwarefoundation.python.3.12_qbz5n2kfra8p0\\localcache\\local-packages\\python312\\site-packages (from sqlalchemy) (3.1.1)\n",
      "Requirement already satisfied: numpy>=1.26.0 in c:\\users\\brad\\appdata\\local\\packages\\pythonsoftwarefoundation.python.3.12_qbz5n2kfra8p0\\localcache\\local-packages\\python312\\site-packages (from pandas) (2.1.2)\n",
      "Requirement already satisfied: pytz>=2020.1 in c:\\users\\brad\\appdata\\local\\packages\\pythonsoftwarefoundation.python.3.12_qbz5n2kfra8p0\\localcache\\local-packages\\python312\\site-packages (from pandas) (2024.2)\n",
      "Requirement already satisfied: tzdata>=2022.7 in c:\\users\\brad\\appdata\\local\\packages\\pythonsoftwarefoundation.python.3.12_qbz5n2kfra8p0\\localcache\\local-packages\\python312\\site-packages (from pandas) (2024.2)\n",
      "Requirement already satisfied: soupsieve>1.2 in c:\\users\\brad\\appdata\\local\\packages\\pythonsoftwarefoundation.python.3.12_qbz5n2kfra8p0\\localcache\\local-packages\\python312\\site-packages (from beautifulsoup4) (2.7)\n",
      "Requirement already satisfied: colorama in c:\\users\\brad\\appdata\\local\\packages\\pythonsoftwarefoundation.python.3.12_qbz5n2kfra8p0\\localcache\\local-packages\\python312\\site-packages (from tqdm->kaggle) (0.4.6)\n",
      "Note: you may need to restart the kernel to use updated packages.\n"
     ]
    }
   ],
   "source": [
    "%pip install kaggle psycopg2-binary sqlalchemy pandas requests beautifulsoup4 lxml python-dotenv"
   ]
  },
  {
   "cell_type": "code",
   "execution_count": null,
   "metadata": {},
   "outputs": [],
   "source": [
    "import os\n",
    "import pandas as pd\n",
    "from kaggle.api.kaggle_api_extended import KaggleApi\n",
    "from dotenv import load_dotenv\n",
    "from sqlalchemy import create_engine"
   ]
  },
  {
   "cell_type": "code",
   "execution_count": 14,
   "metadata": {},
   "outputs": [
    {
     "name": "stdout",
     "output_type": "stream",
     "text": [
      "Dataset URL: https://www.kaggle.com/datasets/alanjo/graphics-card-full-specs\n"
     ]
    }
   ],
   "source": [
    "load_dotenv()\n",
    "\n",
    "os.environ[\"KAGGLE_USERNAME\"] = os.getenv(\"KAGGLE_USERNAME\")\n",
    "os.environ[\"KAGGLE_KEY\"] = os.getenv(\"KAGGLE_KEY\")\n",
    "\n",
    "api = KaggleApi()\n",
    "api.authenticate()\n",
    "\n",
    "dataset_slug = \"alanjo/graphics-card-full-specs\"\n",
    "api.dataset_download_files(dataset_slug, path='./data/kaggle', unzip=True)"
   ]
  },
  {
   "cell_type": "code",
   "execution_count": 15,
   "metadata": {},
   "outputs": [
    {
     "name": "stdout",
     "output_type": "stream",
     "text": [
      "gpu_specs_v6.csv\n",
      "gpu_specs_v7.csv\n"
     ]
    }
   ],
   "source": [
    "for root, dirs, files in os.walk(\"./data/kaggle\"):\n",
    "    for file in files:\n",
    "        print(file)"
   ]
  },
  {
   "cell_type": "code",
   "execution_count": 16,
   "metadata": {},
   "outputs": [
    {
     "name": "stdout",
     "output_type": "stream",
     "text": [
      "  manufacturer              productName  releaseYear  memSize  memBusWidth  \\\n",
      "0       NVIDIA         GeForce RTX 5090       2025.0     28.0        448.0   \n",
      "1       NVIDIA         GeForce RTX 5080       2025.0     16.0        256.0   \n",
      "2       NVIDIA         GeForce RTX 5070       2025.0     12.0        192.0   \n",
      "3       NVIDIA  GeForce RTX 5060 Mobile       2025.0      8.0        128.0   \n",
      "4       NVIDIA         GeForce RTX 5060       2025.0      8.0        128.0   \n",
      "\n",
      "   gpuClock  memClock  unifiedShader  tmu  rop  pixelShader  vertexShader igp  \\\n",
      "0       900    1200.0         8192.0  256  128          NaN           NaN  No   \n",
      "1       900    1215.0         6912.0  432  192          NaN           NaN  No   \n",
      "2      1825    2000.0         5120.0  320  128          NaN           NaN  No   \n",
      "3      2235    2500.0         4608.0  144   48          NaN           NaN  No   \n",
      "4      1825    2250.0         4608.0  288  192          NaN           NaN  No   \n",
      "\n",
      "            bus memType       gpuChip  \n",
      "0  PCIe 4.0 x16   HBM2e  Arctic Sound  \n",
      "1  PCIe 4.0 x16   HBM2e         GA100  \n",
      "2  PCIe 4.0 x16   GDDR6       Navi 21  \n",
      "3  PCIe 5.0 x16   GDDR7         GB206  \n",
      "4  PCIe 4.0 x16   GDDR6       Navi 31  \n"
     ]
    }
   ],
   "source": [
    "df = pd.read_csv(\"./data/kaggle/gpu_specs_v7.csv\")\n",
    "\n",
    "df.reset_index(drop=True, inplace=True)\n",
    "print(df.head())"
   ]
  },
  {
   "cell_type": "code",
   "execution_count": 17,
   "metadata": {},
   "outputs": [
    {
     "name": "stdout",
     "output_type": "stream",
     "text": [
      "Index(['manufacturer', 'productName', 'releaseYear', 'memSize', 'memBusWidth',\n",
      "       'gpuClock', 'memClock', 'unifiedShader', 'tmu', 'rop', 'pixelShader',\n",
      "       'vertexShader', 'igp', 'bus', 'memType', 'gpuChip'],\n",
      "      dtype='object')\n",
      "<bound method DataFrame.info of      manufacturer              productName  releaseYear  memSize  memBusWidth  \\\n",
      "0          NVIDIA         GeForce RTX 5090       2025.0   28.000        448.0   \n",
      "1          NVIDIA         GeForce RTX 5080       2025.0   16.000        256.0   \n",
      "2          NVIDIA         GeForce RTX 5070       2025.0   12.000        192.0   \n",
      "3          NVIDIA  GeForce RTX 5060 Mobile       2025.0    8.000        128.0   \n",
      "4          NVIDIA         GeForce RTX 5060       2025.0    8.000        128.0   \n",
      "...           ...                      ...          ...      ...          ...   \n",
      "3051          ATI     Radeon X1600 XT Dual          NaN    0.256          NaN   \n",
      "3052          AMD        Radeon Pro V5300X          NaN    4.000          NaN   \n",
      "3053          ATI           Radeon 8500 XT          NaN    0.128          NaN   \n",
      "3054       NVIDIA                 NVS 1000          NaN    2.000          NaN   \n",
      "3055          ATI           Radeon 8500 X4          NaN    0.064          NaN   \n",
      "\n",
      "      gpuClock  memClock  unifiedShader  tmu  rop  pixelShader  vertexShader  \\\n",
      "0          900    1200.0         8192.0  256  128          NaN           NaN   \n",
      "1          900    1215.0         6912.0  432  192          NaN           NaN   \n",
      "2         1825    2000.0         5120.0  320  128          NaN           NaN   \n",
      "3         2235    2500.0         4608.0  144   48          NaN           NaN   \n",
      "4         1825    2250.0         4608.0  288  192          NaN           NaN   \n",
      "...        ...       ...            ...  ...  ...          ...           ...   \n",
      "3051       523     875.0           48.0    8    4          NaN           NaN   \n",
      "3052       523     875.0           48.0    8    4          NaN           NaN   \n",
      "3053       874     825.0           48.0    8    4          NaN           NaN   \n",
      "3054       874     825.0           48.0    8    4          NaN           NaN   \n",
      "3055       350     325.0            NaN    8    8          8.0           4.0   \n",
      "\n",
      "     igp           bus memType       gpuChip  \n",
      "0     No  PCIe 4.0 x16   HBM2e  Arctic Sound  \n",
      "1     No  PCIe 4.0 x16   HBM2e         GA100  \n",
      "2     No  PCIe 4.0 x16   GDDR6       Navi 21  \n",
      "3     No  PCIe 5.0 x16   GDDR7         GB206  \n",
      "4     No  PCIe 4.0 x16   GDDR6       Navi 31  \n",
      "...   ..           ...     ...           ...  \n",
      "3051  No  PCIe 2.0 x16    DDR3         GF119  \n",
      "3052  No  PCIe 2.0 x16    DDR3         GF119  \n",
      "3053  No  PCIe 2.0 x16    DDR3         GF119  \n",
      "3054  No  PCIe 2.0 x16    DDR3         GF119  \n",
      "3055  No        AGP 8x    DDR2           G73  \n",
      "\n",
      "[3056 rows x 16 columns]>\n"
     ]
    }
   ],
   "source": [
    "print(df.columns)\n",
    "print(df.info)"
   ]
  },
  {
   "cell_type": "code",
   "execution_count": null,
   "metadata": {},
   "outputs": [],
   "source": [
    "load_dotenv()\n",
    "\n",
    "pg_user = os.getenv('PG_USER')\n",
    "pg_password = os.getenv('PG_PASSWORD')\n",
    "pg_host = os.getenv('PG_HOST')\n",
    "pg_port = os.getenv('PG_PORT')\n",
    "pg_db = os.getenv('PG_GPU_DB')\n",
    "\n",
    "pg_conn_str = f\"postgresql+psycopg2://{pg_user}:{pg_password}@{pg_host}:{pg_port}/{pg_db}\"\n",
    "pg_engine = create_engine(pg_conn_str)"
   ]
  },
  {
   "cell_type": "code",
   "execution_count": 19,
   "metadata": {},
   "outputs": [
    {
     "name": "stdout",
     "output_type": "stream",
     "text": [
      "Shape of DataFrame: (3056, 16)\n",
      "  manufacturer              productName  releaseYear  memSize  memBusWidth  \\\n",
      "0       NVIDIA         GeForce RTX 5090       2025.0     28.0        448.0   \n",
      "1       NVIDIA         GeForce RTX 5080       2025.0     16.0        256.0   \n",
      "2       NVIDIA         GeForce RTX 5070       2025.0     12.0        192.0   \n",
      "3       NVIDIA  GeForce RTX 5060 Mobile       2025.0      8.0        128.0   \n",
      "4       NVIDIA         GeForce RTX 5060       2025.0      8.0        128.0   \n",
      "\n",
      "   gpuClock  memClock  unifiedShader  tmu  rop  pixelShader  vertexShader igp  \\\n",
      "0       900    1200.0         8192.0  256  128          NaN           NaN  No   \n",
      "1       900    1215.0         6912.0  432  192          NaN           NaN  No   \n",
      "2      1825    2000.0         5120.0  320  128          NaN           NaN  No   \n",
      "3      2235    2500.0         4608.0  144   48          NaN           NaN  No   \n",
      "4      1825    2250.0         4608.0  288  192          NaN           NaN  No   \n",
      "\n",
      "            bus memType       gpuChip  \n",
      "0  PCIe 4.0 x16   HBM2e  Arctic Sound  \n",
      "1  PCIe 4.0 x16   HBM2e         GA100  \n",
      "2  PCIe 4.0 x16   GDDR6       Navi 21  \n",
      "3  PCIe 5.0 x16   GDDR7         GB206  \n",
      "4  PCIe 4.0 x16   GDDR6       Navi 31  \n"
     ]
    }
   ],
   "source": [
    "print(\"Shape of DataFrame:\", df.shape)\n",
    "print(df.head())"
   ]
  },
  {
   "cell_type": "code",
   "execution_count": null,
   "metadata": {},
   "outputs": [
    {
     "data": {
      "text/plain": [
       "56"
      ]
     },
     "execution_count": 20,
     "metadata": {},
     "output_type": "execute_result"
    }
   ],
   "source": [
    "df.to_sql(\"gpu_specs_raw\", con=pg_engine, schema=\"sql_project\", if_exists=\"replace\", index=False) "
   ]
  }
 ],
 "metadata": {
  "kernelspec": {
   "display_name": "Python 3",
   "language": "python",
   "name": "python3"
  },
  "language_info": {
   "codemirror_mode": {
    "name": "ipython",
    "version": 3
   },
   "file_extension": ".py",
   "mimetype": "text/x-python",
   "name": "python",
   "nbconvert_exporter": "python",
   "pygments_lexer": "ipython3",
   "version": "3.12.10"
  }
 },
 "nbformat": 4,
 "nbformat_minor": 2
}
